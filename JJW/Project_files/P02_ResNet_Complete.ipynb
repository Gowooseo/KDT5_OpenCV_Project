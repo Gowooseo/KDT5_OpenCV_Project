{
 "cells": [
  {
   "cell_type": "code",
   "execution_count": null,
   "metadata": {},
   "outputs": [],
   "source": []
  },
  {
   "cell_type": "markdown",
   "metadata": {},
   "source": [
    "0. Load Module"
   ]
  },
  {
   "cell_type": "code",
   "execution_count": null,
   "metadata": {},
   "outputs": [],
   "source": [
    "# Load Module\n",
    "import torch\n",
    "import torch.nn as nn\n",
    "import torch.optim as optim\n",
    "import torch.nn.functional as F\n",
    "import torchvision\n",
    "import torchvision.transforms as transforms\n",
    "import numpy as np\n",
    "import os\n",
    "import matplotlib.pyplot as plt\n",
    "\n",
    "from torch.utils.data import DataLoader, Dataset\n",
    "from torchvision.datasets import ImageFolder\n",
    "from torchvision.models import resnet18, ResNet18_Weights\n",
    "from torchinfo import summary\n",
    "from torchmetrics.functional.classification import multiclass_accuracy"
   ]
  },
  {
   "cell_type": "markdown",
   "metadata": {},
   "source": [
    "1. Load Data"
   ]
  },
  {
   "cell_type": "code",
   "execution_count": null,
   "metadata": {},
   "outputs": [],
   "source": [
    "# 1. Load Data\n",
    "file_dir = '../imgs'\n",
    "not_pizza_dir = '../imgs/not_pizza/'\n",
    "pizza_dir = '../imgs/pizza'\n",
    "\n",
    "for img in os.listdir(not_pizza_dir):\n",
    "    img = os.path.join(not_pizza_dir, img)\n",
    "    img = plt.imread(img)\n",
    "    plt.imshow(img)\n",
    "    plt.show()\n",
    "    break   # 잘 출력된다"
   ]
  },
  {
   "cell_type": "markdown",
   "metadata": {},
   "source": [
    "2. 전처리  \n",
    "2-1. 오류 없는 파일만 저장"
   ]
  },
  {
   "cell_type": "code",
   "execution_count": null,
   "metadata": {},
   "outputs": [],
   "source": [
    "# 오류 없는 이미지 파일명 리스트 생성\n",
    "not_pizza_list, pizza_list = [], []\n",
    "\n",
    "for img in os.listdir(not_pizza_dir):\n",
    "    try:\n",
    "        img = os.path.join(not_pizza_dir, img)\n",
    "        img = plt.imread(img)\n",
    "        not_pizza_list.append(img)\n",
    "    except:\n",
    "        continue\n",
    "for img in os.listdir(pizza_dir):\n",
    "    try:\n",
    "        img = os.path.join(pizza_dir, img)\n",
    "        img = plt.imread(img)\n",
    "        pizza_list.append(img)\n",
    "    except:\n",
    "        continue\n",
    "\n",
    "print(len(not_pizza_list), len(pizza_list))    # 945 945"
   ]
  },
  {
   "cell_type": "code",
   "execution_count": null,
   "metadata": {},
   "outputs": [],
   "source": [
    "Shapes1, Shape2 = [], []\n",
    "for img in not_pizza_list:\n",
    "    Shapes1.append(img.shape)\n",
    "print(np.mean(Shapes1, axis=0), np.min(Shapes1, axis=0))\n",
    "for img in pizza_list:\n",
    "    Shape2.append(img.shape)\n",
    "print(np.mean(Shape2, axis=0), np.min(Shape2, axis=0))"
   ]
  },
  {
   "cell_type": "code",
   "execution_count": null,
   "metadata": {},
   "outputs": [],
   "source": []
  },
  {
   "cell_type": "code",
   "execution_count": null,
   "metadata": {},
   "outputs": [],
   "source": []
  },
  {
   "cell_type": "code",
   "execution_count": null,
   "metadata": {},
   "outputs": [],
   "source": []
  }
 ],
 "metadata": {
  "kernelspec": {
   "display_name": "Torch_PY38",
   "language": "python",
   "name": "python3"
  },
  "language_info": {
   "name": "python",
   "version": "3.8.18"
  }
 },
 "nbformat": 4,
 "nbformat_minor": 2
}
