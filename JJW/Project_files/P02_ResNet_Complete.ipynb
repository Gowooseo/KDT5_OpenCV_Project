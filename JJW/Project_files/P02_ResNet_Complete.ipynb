{
 "cells": [
  {
   "cell_type": "code",
   "execution_count": null,
   "metadata": {},
   "outputs": [],
   "source": []
  },
  {
   "cell_type": "markdown",
   "metadata": {},
   "source": [
    "0. Load Module"
   ]
  },
  {
   "cell_type": "code",
   "execution_count": null,
   "metadata": {},
   "outputs": [],
   "source": [
    "# Load Module\n",
    "import torch\n",
    "import torch.nn as nn\n",
    "import torch.optim as optim\n",
    "import torch.nn.functional as F\n",
    "import torchvision\n",
    "import torchvision.transforms as transforms\n",
    "import numpy as np\n",
    "import os\n",
    "import matplotlib.pyplot as plt\n",
    "\n",
    "from torch.utils.data import DataLoader, Dataset\n",
    "from torchvision.datasets import ImageFolder\n",
    "from torchvision.models import resnet18, ResNet18_Weights\n",
    "from torchinfo import summary\n",
    "from torchmetrics.functional.classification import multiclass_accuracy"
   ]
  },
  {
   "cell_type": "markdown",
   "metadata": {},
   "source": [
    "1. Load Data"
   ]
  },
  {
   "cell_type": "code",
   "execution_count": null,
   "metadata": {},
   "outputs": [],
   "source": [
    "# 1. Load Data\n",
    "file_dir = '../imgs'\n",
    "not_pizza_dir = '../imgs/not_pizza/'\n",
    "pizza_dir = '../imgs/pizza'\n",
    "\n",
    "for img in os.listdir(not_pizza_dir):\n",
    "    img = os.path.join(not_pizza_dir, img)\n",
    "    img = plt.imread(img)\n",
    "    plt.imshow(img)\n",
    "    plt.show()\n",
    "    break   # 잘 출력된다"
   ]
  },
  {
   "cell_type": "markdown",
   "metadata": {},
   "source": [
    "2. 전처리  \n",
    "2-1. 오류 없는 파일만 저장"
   ]
  },
  {
   "cell_type": "code",
   "execution_count": null,
   "metadata": {},
   "outputs": [],
   "source": [
    "# 오류 없는 이미지 파일명 리스트 생성\n",
    "not_pizza_list, pizza_list = [], []\n",
    "\n",
    "for img in os.listdir(not_pizza_dir):\n",
    "    try:\n",
    "        img = os.path.join(not_pizza_dir, img)\n",
    "        img = plt.imread(img)\n",
    "        not_pizza_list.append(img)\n",
    "    except:\n",
    "        continue\n",
    "for img in os.listdir(pizza_dir):\n",
    "    try:\n",
    "        img = os.path.join(pizza_dir, img)\n",
    "        img = plt.imread(img)\n",
    "        pizza_list.append(img)\n",
    "    except:\n",
    "        continue\n",
    "\n",
    "print(len(not_pizza_list), len(pizza_list))    # 945 945"
   ]
  },
  {
   "cell_type": "markdown",
   "metadata": {},
   "source": [
    "Shape 평균 및 최소값으로 resize 크기 선정"
   ]
  },
  {
   "cell_type": "code",
   "execution_count": null,
   "metadata": {},
   "outputs": [],
   "source": [
    "Shapes1, Shape2 = [], []\n",
    "for img in not_pizza_list:\n",
    "    Shapes1.append(img.shape)\n",
    "print(np.mean(Shapes1, axis=0), np.min(Shapes1, axis=0))\n",
    "for img in pizza_list:\n",
    "    Shape2.append(img.shape)\n",
    "print(np.mean(Shape2, axis=0), np.min(Shape2, axis=0))"
   ]
  },
  {
   "cell_type": "markdown",
   "metadata": {},
   "source": [
    "데이터셋 생성(ImageFolder) 및 분리, DataLoader 생성"
   ]
  },
  {
   "cell_type": "code",
   "execution_count": null,
   "metadata": {},
   "outputs": [],
   "source": [
    "# Shape 통일\n",
    "transform = transforms.Compose([\n",
    "    transforms.Resize((256, 256)),\n",
    "    transforms.ToTensor(),\n",
    "    transforms.Normalize(mean=[0.5], std=[0.5])\n",
    "])\n",
    "\n",
    "# 전체 이미지 변환 : ImageFolder\n",
    "total_dataset = ImageFolder(root=file_dir, transform=transform)\n",
    "\n",
    "label_list = []\n",
    "img_count = 0\n",
    "for img, label in total_dataset:\n",
    "    img_count += 1\n",
    "    label_list.append(label)\n",
    "    \n",
    "# 2. Split Data\n",
    "from torch.utils.data import random_split\n",
    "ratios = [0.8, 0.1, 0.1]\n",
    "\n",
    "train_dataset, valid_dataset, test_dataset = random_split(total_dataset, ratios, generator=torch.Generator().manual_seed(11))\n",
    "\n",
    "# DataLoader : Batch Size = 32\n",
    "train_loader = DataLoader(train_dataset, batch_size=32, drop_last=True)\n",
    "valid_loader = DataLoader(valid_dataset, batch_size=32, drop_last=True)\n",
    "test_loader = DataLoader(test_dataset, batch_size=32, drop_last=True)\n"
   ]
  },
  {
   "cell_type": "markdown",
   "metadata": {},
   "source": [
    "모델 선언 및 fc(fully connected) layer 추가"
   ]
  },
  {
   "cell_type": "code",
   "execution_count": null,
   "metadata": {},
   "outputs": [],
   "source": [
    "# Model : ResNet18\n",
    "model = resnet18(weights=ResNet18_Weights.IMAGENET1K_V1)\n",
    "\n",
    "num_ftrs = model.fc.in_features\n",
    "print(num_ftrs) # 512\n",
    "model.fc = nn.Linear(num_ftrs, 1)   # 512, 1"
   ]
  },
  {
   "cell_type": "markdown",
   "metadata": {},
   "source": [
    "fc 반영된 모델 : 뭘 바꿀 수 있을까?"
   ]
  },
  {
   "cell_type": "code",
   "execution_count": null,
   "metadata": {},
   "outputs": [],
   "source": [
    "# ResNet(\n",
    "#   (conv1): Conv2d(3, 64, kernel_size=(7, 7), stride=(2, 2), padding=(3, 3), bias=False)\n",
    "#   (bn1): BatchNorm2d(64, eps=1e-05, momentum=0.1, affine=True, track_running_stats=True)\n",
    "#   (relu): ReLU(inplace=True)\n",
    "#   (maxpool): MaxPool2d(kernel_size=3, stride=2, padding=1, dilation=1, ceil_mode=False)\n",
    "#   (layer1): Sequential(\n",
    "#     (0): BasicBlock(\n",
    "#       (conv1): Conv2d(64, 64, kernel_size=(3, 3), stride=(1, 1), padding=(1, 1), bias=False)\n",
    "#       (bn1): BatchNorm2d(64, eps=1e-05, momentum=0.1, affine=True, track_running_stats=True)\n",
    "#       (relu): ReLU(inplace=True)\n",
    "#       (conv2): Conv2d(64, 64, kernel_size=(3, 3), stride=(1, 1), padding=(1, 1), bias=False)\n",
    "#       (bn2): BatchNorm2d(64, eps=1e-05, momentum=0.1, affine=True, track_running_stats=True)\n",
    "#     )\n",
    "#     (1): BasicBlock(\n",
    "#       (conv1): Conv2d(64, 64, kernel_size=(3, 3), stride=(1, 1), padding=(1, 1), bias=False)\n",
    "#       (bn1): BatchNorm2d(64, eps=1e-05, momentum=0.1, affine=True, track_running_stats=True)\n",
    "#       (relu): ReLU(inplace=True)\n",
    "#       (conv2): Conv2d(64, 64, kernel_size=(3, 3), stride=(1, 1), padding=(1, 1), bias=False)\n",
    "#       (bn2): BatchNorm2d(64, eps=1e-05, momentum=0.1, affine=True, track_running_stats=True)\n",
    "#     )\n",
    "#   )\n",
    "#   (layer2): Sequential(\n",
    "#     (0): BasicBlock(\n",
    "#       (conv1): Conv2d(64, 128, kernel_size=(3, 3), stride=(2, 2), padding=(1, 1), bias=False)\n",
    "#       (bn1): BatchNorm2d(128, eps=1e-05, momentum=0.1, affine=True, track_running_stats=True)\n",
    "#       (relu): ReLU(inplace=True)\n",
    "#       (conv2): Conv2d(128, 128, kernel_size=(3, 3), stride=(1, 1), padding=(1, 1), bias=False)\n",
    "#       (bn2): BatchNorm2d(128, eps=1e-05, momentum=0.1, affine=True, track_running_stats=True)\n",
    "#       (downsample): Sequential(\n",
    "#         (0): Conv2d(64, 128, kernel_size=(1, 1), stride=(2, 2), bias=False)\n",
    "#         (1): BatchNorm2d(128, eps=1e-05, momentum=0.1, affine=True, track_running_stats=True)\n",
    "#       )\n",
    "#     )\n",
    "#     (1): BasicBlock(\n",
    "#       (conv1): Conv2d(128, 128, kernel_size=(3, 3), stride=(1, 1), padding=(1, 1), bias=False)\n",
    "#       (bn1): BatchNorm2d(128, eps=1e-05, momentum=0.1, affine=True, track_running_stats=True)\n",
    "#       (relu): ReLU(inplace=True)\n",
    "#       (conv2): Conv2d(128, 128, kernel_size=(3, 3), stride=(1, 1), padding=(1, 1), bias=False)\n",
    "#       (bn2): BatchNorm2d(128, eps=1e-05, momentum=0.1, affine=True, track_running_stats=True)\n",
    "#     )\n",
    "#   )\n",
    "#   (layer3): Sequential(\n",
    "#     (0): BasicBlock(\n",
    "#       (conv1): Conv2d(128, 256, kernel_size=(3, 3), stride=(2, 2), padding=(1, 1), bias=False)\n",
    "#       (bn1): BatchNorm2d(256, eps=1e-05, momentum=0.1, affine=True, track_running_stats=True)\n",
    "#       (relu): ReLU(inplace=True)\n",
    "#       (conv2): Conv2d(256, 256, kernel_size=(3, 3), stride=(1, 1), padding=(1, 1), bias=False)\n",
    "#       (bn2): BatchNorm2d(256, eps=1e-05, momentum=0.1, affine=True, track_running_stats=True)\n",
    "#       (downsample): Sequential(\n",
    "#         (0): Conv2d(128, 256, kernel_size=(1, 1), stride=(2, 2), bias=False)\n",
    "#         (1): BatchNorm2d(256, eps=1e-05, momentum=0.1, affine=True, track_running_stats=True)\n",
    "#       )\n",
    "#     )\n",
    "#     (1): BasicBlock(\n",
    "#       (conv1): Conv2d(256, 256, kernel_size=(3, 3), stride=(1, 1), padding=(1, 1), bias=False)\n",
    "#       (bn1): BatchNorm2d(256, eps=1e-05, momentum=0.1, affine=True, track_running_stats=True)\n",
    "#       (relu): ReLU(inplace=True)\n",
    "#       (conv2): Conv2d(256, 256, kernel_size=(3, 3), stride=(1, 1), padding=(1, 1), bias=False)\n",
    "#       (bn2): BatchNorm2d(256, eps=1e-05, momentum=0.1, affine=True, track_running_stats=True)\n",
    "#     )\n",
    "#   )\n",
    "#   (layer4): Sequential(\n",
    "#     (0): BasicBlock(\n",
    "#       (conv1): Conv2d(256, 512, kernel_size=(3, 3), stride=(2, 2), padding=(1, 1), bias=False)\n",
    "#       (bn1): BatchNorm2d(512, eps=1e-05, momentum=0.1, affine=True, track_running_stats=True)\n",
    "#       (relu): ReLU(inplace=True)\n",
    "#       (conv2): Conv2d(512, 512, kernel_size=(3, 3), stride=(1, 1), padding=(1, 1), bias=False)\n",
    "#       (bn2): BatchNorm2d(512, eps=1e-05, momentum=0.1, affine=True, track_running_stats=True)\n",
    "#       (downsample): Sequential(\n",
    "#         (0): Conv2d(256, 512, kernel_size=(1, 1), stride=(2, 2), bias=False)\n",
    "#         (1): BatchNorm2d(512, eps=1e-05, momentum=0.1, affine=True, track_running_stats=True)\n",
    "#       )\n",
    "#     )\n",
    "#     (1): BasicBlock(\n",
    "#       (conv1): Conv2d(512, 512, kernel_size=(3, 3), stride=(1, 1), padding=(1, 1), bias=False)\n",
    "#       (bn1): BatchNorm2d(512, eps=1e-05, momentum=0.1, affine=True, track_running_stats=True)\n",
    "#       (relu): ReLU(inplace=True)\n",
    "#       (conv2): Conv2d(512, 512, kernel_size=(3, 3), stride=(1, 1), padding=(1, 1), bias=False)\n",
    "#       (bn2): BatchNorm2d(512, eps=1e-05, momentum=0.1, affine=True, track_running_stats=True)\n",
    "#     )\n",
    "#   )\n",
    "#   (avgpool): AdaptiveAvgPool2d(output_size=(1, 1))\n",
    "#   (fc): Linear(in_features=512, out_features=1, bias=True)\n",
    "# )"
   ]
  },
  {
   "cell_type": "markdown",
   "metadata": {},
   "source": [
    "Make Dot"
   ]
  },
  {
   "cell_type": "code",
   "execution_count": null,
   "metadata": {},
   "outputs": [],
   "source": [
    "# makedot\n",
    "from torchviz import make_dot\n",
    "\n",
    "make_dot(model(torch.randn(32, 3, 256, 256)), params=dict(model.named_parameters()))"
   ]
  },
  {
   "cell_type": "markdown",
   "metadata": {},
   "source": [
    "모델 학습 및 평가"
   ]
  },
  {
   "cell_type": "code",
   "execution_count": null,
   "metadata": {},
   "outputs": [],
   "source": [
    "# 학습 준비\n",
    "optimizer = optim.Adam(model.parameters(), lr=1e-3)\n",
    "criterion = nn.BCEWithLogitsLoss()\n",
    "scheduler = optim.lr_scheduler.ReduceLROnPlateau(optimizer, mode='min', factor=0.1, patience=5)\n",
    "Epochs = 18\n",
    "\n",
    "# 학습\n",
    "for epoch in range(Epochs):\n",
    "    model.train()\n",
    "    for i, (imgs, labels) in enumerate(train_loader):\n",
    "        \n",
    "        preds = model(imgs)\n",
    "        label = labels.unsqueeze(1).float()\n",
    "        loss = criterion(preds, label)\n",
    "\n",
    "        optimizer.zero_grad()   # gradient 초기화\n",
    "        loss.backward()     # backward\n",
    "        optimizer.step()    # weight update\n",
    "\n",
    "        if i % 10 == 0:\n",
    "            print(f'Epoch [{epoch+1}/{Epochs}], Step [{i+1}/{len(train_loader)}], Loss : {loss.item()}')\n",
    "\n",
    "    scheduler.step(loss.item())\n",
    "    if scheduler.state_dict()['_last_lr'][0] < 1e-6:\n",
    "        break\n",
    "\n",
    "    model.eval()\n",
    "    with torch.no_grad():\n",
    "        for i, (imgs, labels) in enumerate(valid_loader):\n",
    "            \n",
    "            preds = model(imgs)\n",
    "            label = labels.unsqueeze(1).float()\n",
    "            \n",
    "            loss = criterion(preds, label)\n",
    "            pred = torch.sigmoid(preds) > 0.5\n",
    "            acc = multiclass_accuracy(pred, label, num_classes=3)\n",
    "            \n",
    "            print(f'Epoch [{epoch+1}/{Epochs}], Step [{i+1}/{len(valid_loader)}], Loss : {loss.item()}, Accuracy : {acc.item()}')"
   ]
  },
  {
   "cell_type": "code",
   "execution_count": null,
   "metadata": {},
   "outputs": [],
   "source": []
  },
  {
   "cell_type": "code",
   "execution_count": null,
   "metadata": {},
   "outputs": [],
   "source": []
  },
  {
   "cell_type": "code",
   "execution_count": null,
   "metadata": {},
   "outputs": [],
   "source": []
  }
 ],
 "metadata": {
  "kernelspec": {
   "display_name": "Torch_PY38",
   "language": "python",
   "name": "python3"
  },
  "language_info": {
   "name": "python",
   "version": "3.8.18"
  }
 },
 "nbformat": 4,
 "nbformat_minor": 2
}
