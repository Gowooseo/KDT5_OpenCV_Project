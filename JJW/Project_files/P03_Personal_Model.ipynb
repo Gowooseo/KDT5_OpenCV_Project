{
 "cells": [
  {
   "cell_type": "code",
   "execution_count": 1,
   "metadata": {},
   "outputs": [],
   "source": [
    "# 내가 만든 모델\n",
    "\n",
    "# Load Module\n",
    "import torch\n",
    "import torch.nn as nn\n",
    "import torch.optim as optim\n",
    "import torch.nn.functional as F\n",
    "import torchvision\n",
    "import torchvision.transforms as transforms\n",
    "import numpy as np\n",
    "import os\n",
    "import matplotlib.pyplot as plt\n",
    "\n",
    "from torch.utils.data import DataLoader, Dataset\n",
    "from torchvision.datasets import ImageFolder\n",
    "from torchvision.models import resnet18, ResNet18_Weights\n",
    "from torchinfo import summary\n",
    "from torchmetrics.functional.classification import multiclass_accuracy"
   ]
  },
  {
   "cell_type": "code",
   "execution_count": null,
   "metadata": {},
   "outputs": [],
   "source": [
    "# 1. Load Data\n",
    "file_dir = '../imgs'\n",
    "not_pizza_dir = '../imgs/not_pizza/'\n",
    "pizza_dir = '../imgs/pizza'"
   ]
  },
  {
   "cell_type": "code",
   "execution_count": null,
   "metadata": {},
   "outputs": [],
   "source": [
    "# 오류 없는 이미지 파일명 리스트 생성\n",
    "not_pizza_list, pizza_list = [], []\n",
    "\n",
    "for img in os.listdir(not_pizza_dir):\n",
    "    try:\n",
    "        img = os.path.join(not_pizza_dir, img)\n",
    "        img = plt.imread(img)\n",
    "        not_pizza_list.append(img)\n",
    "    except:\n",
    "        continue\n",
    "for img in os.listdir(pizza_dir):\n",
    "    try:\n",
    "        img = os.path.join(pizza_dir, img)\n",
    "        img = plt.imread(img)\n",
    "        pizza_list.append(img)\n",
    "    except:\n",
    "        continue"
   ]
  }
 ],
 "metadata": {
  "kernelspec": {
   "display_name": "Torch_PY38",
   "language": "python",
   "name": "python3"
  },
  "language_info": {
   "codemirror_mode": {
    "name": "ipython",
    "version": 3
   },
   "file_extension": ".py",
   "mimetype": "text/x-python",
   "name": "python",
   "nbconvert_exporter": "python",
   "pygments_lexer": "ipython3",
   "version": "3.8.18"
  }
 },
 "nbformat": 4,
 "nbformat_minor": 2
}
