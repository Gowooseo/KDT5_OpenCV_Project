{
 "cells": [
  {
   "cell_type": "markdown",
   "source": [
    "# Pizza or Not Pizza 분류(VGG 안 쓴 버전)\n",
    "- ImageFolder\n",
    "- Transforms\n",
    "- DataLoader\n",
    "- CNN\n",
    "- weight"
   ],
   "metadata": {
    "collapsed": false
   },
   "id": "35b0beaa710e4036"
  },
  {
   "cell_type": "code",
   "outputs": [],
   "source": [
    "# 모듈 로딩\n",
    "import pandas as pd\n",
    "import numpy as np\n",
    "\n",
    "from PIL import Image\n",
    "import torchvision.transforms as transforms\n",
    "from torch.utils.data import DataLoader, WeightedRandomSampler\n",
    "\n",
    "\n",
    "import torch\n",
    "import torch.nn as nn\n",
    "import torch.nn.functional as F\n",
    "import torch.optim as optim\n",
    "import torch.nn.init as init\n",
    "import matplotlib.pyplot as plt"
   ],
   "metadata": {
    "collapsed": false,
    "ExecuteTime": {
     "end_time": "2024-03-26T10:51:13.713688600Z",
     "start_time": "2024-03-26T10:51:13.700957200Z"
    }
   },
   "id": "9194ba7419847ba8",
   "execution_count": 183
  },
  {
   "cell_type": "markdown",
   "source": [
    "# 데이터 불러오기"
   ],
   "metadata": {
    "collapsed": false
   },
   "id": "2e665d5a2538f343"
  },
  {
   "cell_type": "code",
   "outputs": [],
   "source": [
    "from torchvision.datasets import ImageFolder \n",
    "\n",
    "train_root = \"../data/project_img/train\" # 해당 경로 내에 있는 파일명이 곧 label이 되는 것\n",
    "val_root = \"../data/project_img/validation\"\n",
    "test_root = \"../data/project_img/test\"\n",
    "\n",
    "\n",
    "mean = [0.485, 0.456, 0.406]\n",
    "std = [0.229, 0.224, 0.225]\n",
    "\n",
    "preprocessing = transforms.Compose([\n",
    "    transforms.Resize((50, 50), interpolation=transforms.InterpolationMode.BILINEAR), # 1. resize\n",
    "    # transforms.CenterCrop(224), # 2. 중앙크롭\n",
    "    transforms.ToTensor(),  # 3. 값의 크기를 0~1로\n",
    "    transforms.Normalize(mean=mean, std=std) # 4. normalized\n",
    "])\n",
    "\n",
    "trainDS = ImageFolder(root=train_root, transform=preprocessing)\n",
    "valDS = ImageFolder(root=val_root, transform=preprocessing)\n",
    "testDS = ImageFolder(root=test_root, transform=preprocessing)"
   ],
   "metadata": {
    "collapsed": false,
    "ExecuteTime": {
     "end_time": "2024-03-26T09:55:27.236767200Z",
     "start_time": "2024-03-26T09:55:27.207056400Z"
    }
   },
   "id": "56ee1fd646844f7b",
   "execution_count": 119
  },
  {
   "cell_type": "markdown",
   "source": [
    "## 데이터 셋이 잘 읽혔는지 확인"
   ],
   "metadata": {
    "collapsed": false
   },
   "id": "bca4528fe0e93b19"
  },
  {
   "cell_type": "code",
   "outputs": [
    {
     "data": {
      "text/plain": "(['not_pizza', 'pizza'], {'not_pizza': 0, 'pizza': 1})"
     },
     "execution_count": 120,
     "metadata": {},
     "output_type": "execute_result"
    }
   ],
   "source": [
    "trainDS.classes, trainDS.class_to_idx"
   ],
   "metadata": {
    "collapsed": false,
    "ExecuteTime": {
     "end_time": "2024-03-26T09:55:27.573139100Z",
     "start_time": "2024-03-26T09:55:27.562169900Z"
    }
   },
   "id": "bc9729a8211af0cc",
   "execution_count": 120
  },
  {
   "cell_type": "code",
   "outputs": [
    {
     "data": {
      "text/plain": "(['not_pizza', 'pizza'], {'not_pizza': 0, 'pizza': 1})"
     },
     "execution_count": 121,
     "metadata": {},
     "output_type": "execute_result"
    }
   ],
   "source": [
    "valDS.classes, valDS.class_to_idx"
   ],
   "metadata": {
    "collapsed": false,
    "ExecuteTime": {
     "end_time": "2024-03-26T09:55:27.853852700Z",
     "start_time": "2024-03-26T09:55:27.829706500Z"
    }
   },
   "id": "fe102052011e9fe9",
   "execution_count": 121
  },
  {
   "cell_type": "code",
   "outputs": [
    {
     "data": {
      "text/plain": "(['not_pizza', 'pizza'], {'not_pizza': 0, 'pizza': 1})"
     },
     "execution_count": 122,
     "metadata": {},
     "output_type": "execute_result"
    }
   ],
   "source": [
    "testDS.classes, testDS.class_to_idx"
   ],
   "metadata": {
    "collapsed": false,
    "ExecuteTime": {
     "end_time": "2024-03-26T09:55:28.046497600Z",
     "start_time": "2024-03-26T09:55:28.023005400Z"
    }
   },
   "id": "57df3703ffeabc57",
   "execution_count": 122
  },
  {
   "cell_type": "code",
   "outputs": [
    {
     "data": {
      "text/plain": "(1600, 200, 166)"
     },
     "execution_count": 123,
     "metadata": {},
     "output_type": "execute_result"
    }
   ],
   "source": [
    "# 비율 확인\n",
    "len(trainDS), len(valDS), len(testDS)"
   ],
   "metadata": {
    "collapsed": false,
    "ExecuteTime": {
     "end_time": "2024-03-26T09:55:28.208272Z",
     "start_time": "2024-03-26T09:55:28.168350400Z"
    }
   },
   "id": "85e25d525831aadb",
   "execution_count": 123
  },
  {
   "cell_type": "code",
   "outputs": [
    {
     "data": {
      "text/plain": "tensor([[[-2.0152, -1.9980, -1.9124,  ..., -0.0116, -0.0801, -0.1828],\n         [-1.8439, -1.6384, -1.3644,  ...,  0.0569,  0.0056, -0.0972],\n         [-1.2445, -1.1075, -0.9877,  ...,  0.0912,  0.0569, -0.0801],\n         ...,\n         [-1.0733, -0.9534, -0.8164,  ...,  0.8104,  0.6049,  0.2111],\n         [-1.1418, -1.0219, -0.8507,  ...,  0.8789,  0.8618,  0.8104],\n         [-1.1932, -1.0562, -0.9020,  ...,  0.8961,  0.8789,  0.8618]],\n\n        [[-1.9657, -1.9482, -1.8957,  ...,  0.1352,  0.0826, -0.0224],\n         [-1.8256, -1.6331, -1.3704,  ...,  0.2227,  0.1877,  0.0826],\n         [-1.2829, -1.1429, -1.0378,  ...,  0.2927,  0.2577,  0.1176],\n         ...,\n         [-1.0903, -0.9853, -0.8627,  ...,  1.0280,  0.8179,  0.3803],\n         [-1.1429, -1.0378, -0.8978,  ...,  1.0980,  1.0630,  1.0280],\n         [-1.1954, -1.0553, -0.9503,  ...,  1.1331,  1.0980,  1.0980]],\n\n        [[-1.7173, -1.6999, -1.6302,  ...,  0.3393,  0.2871,  0.1825],\n         [-1.5779, -1.3861, -1.1247,  ...,  0.4265,  0.3916,  0.2871],\n         [-1.0550, -0.9156, -0.7936,  ...,  0.4962,  0.4614,  0.3219],\n         ...,\n         [-0.8458, -0.6715, -0.5495,  ...,  1.3677,  1.1585,  0.6879],\n         [-0.8807, -0.7413, -0.5844,  ...,  1.4374,  1.4374,  1.3851],\n         [-0.9156, -0.7587, -0.6367,  ...,  1.4548,  1.4374,  1.4374]]])"
     },
     "execution_count": 124,
     "metadata": {},
     "output_type": "execute_result"
    }
   ],
   "source": [
    "trainDS[0][0]"
   ],
   "metadata": {
    "collapsed": false,
    "ExecuteTime": {
     "end_time": "2024-03-26T09:55:28.343135900Z",
     "start_time": "2024-03-26T09:55:28.319520200Z"
    }
   },
   "id": "61d8a022288c4db3",
   "execution_count": 124
  },
  {
   "cell_type": "code",
   "outputs": [],
   "source": [
    "# def make_weights(labels, nclasses):\n",
    "#     labels = np.array(labels)   # where, unique 함수를 사용하기 위해 numpy로 변환한다.\n",
    "#     weight_list = []   # 가중치를 저장하는 배열을 생성한다.\n",
    "#  \n",
    "#     for cls in range(nclasses):\n",
    "#         idx = np.where(labels == cls)[0]\n",
    "#         count = len(idx)    #각 클래스 데이터 수 카운트 \n",
    "#         weight = 1/count    \n",
    "#         weights = [weight] * count    #라벨이 뽑힐 가중치를 1/count로 동일하게 전체 라벨에 할당 \n",
    "#         weight_list += weights\n",
    "#  \n",
    "#     return weight_list\n"
   ],
   "metadata": {
    "collapsed": false,
    "ExecuteTime": {
     "end_time": "2024-03-26T09:55:28.543152300Z",
     "start_time": "2024-03-26T09:55:28.524804Z"
    }
   },
   "id": "cbb1702bbd732a70",
   "execution_count": 125
  },
  {
   "cell_type": "code",
   "outputs": [],
   "source": [
    "# sampler -> 각 배치의 분포를 맞추기 위함 \n",
    "# weights = make_weights(imgDS.targets, len(imgDS.classes))\n",
    "weights = torch.ones(len(trainDS.targets), dtype=torch.float)\n",
    "# print(weights)\n",
    "sampler = WeightedRandomSampler(weights, len(weights))\n",
    "\n",
    "train_DL = DataLoader(trainDS, batch_size=50, sampler=sampler)\n",
    "\n",
    "weights = torch.ones(len(valDS.targets), dtype=torch.float)\n",
    "# print(weights)\n",
    "sampler = WeightedRandomSampler(weights, len(weights))\n",
    "val_DL = DataLoader(valDS, batch_size=20, sampler=sampler) \n",
    "test_DL = DataLoader(testDS, batch_size=83) # 걍 통으로 레쭈꼬\n",
    "\n",
    "# max = 10\n",
    "# for cnt, (_, label) in enumerate(train_DL):\n",
    "#     print(f'batch별 target 분포\\n{label.bincount()}\\n')\n",
    "#     if cnt > max:\n",
    "#         break"
   ],
   "metadata": {
    "collapsed": false,
    "ExecuteTime": {
     "end_time": "2024-03-26T09:59:08.722890Z",
     "start_time": "2024-03-26T09:59:08.685007900Z"
    }
   },
   "id": "9d6debbd99eead3a",
   "execution_count": 138
  },
  {
   "cell_type": "code",
   "outputs": [
    {
     "name": "stdout",
     "output_type": "stream",
     "text": [
      "batch별 target 분포\n",
      "tensor([10, 10])\n",
      "\n",
      "batch별 target 분포\n",
      "tensor([15,  5])\n",
      "\n",
      "batch별 target 분포\n",
      "tensor([ 8, 12])\n",
      "\n",
      "batch별 target 분포\n",
      "tensor([ 9, 11])\n",
      "batch별 target 분포\n",
      "tensor([11,  9])\n",
      "\n",
      "batch별 target 분포\n",
      "tensor([ 8, 12])\n",
      "\n",
      "batch별 target 분포\n",
      "tensor([12,  8])\n",
      "\n",
      "batch별 target 분포\n",
      "tensor([ 8, 12])\n",
      "batch별 target 분포\n",
      "tensor([ 9, 11])\n",
      "\n",
      "batch별 target 분포\n",
      "tensor([11,  9])\n"
     ]
    }
   ],
   "source": [
    "# max = 10\n",
    "# for cnt, (_, label) in enumerate(val_DL):\n",
    "#     print(f'batch별 target 분포\\n{label.bincount()}\\n')\n",
    "#     if cnt > max:\n",
    "#         break"
   ],
   "metadata": {
    "collapsed": false,
    "ExecuteTime": {
     "end_time": "2024-03-26T09:55:31.407696100Z",
     "start_time": "2024-03-26T09:55:30.728121400Z"
    }
   },
   "id": "5ba577f82fb7b486",
   "execution_count": 127
  },
  {
   "cell_type": "code",
   "outputs": [
    {
     "data": {
      "text/plain": "(32, 10, 166)"
     },
     "execution_count": 128,
     "metadata": {},
     "output_type": "execute_result"
    }
   ],
   "source": [
    "len(train_DL), len(val_DL), len(test_DL) # 배치 개수"
   ],
   "metadata": {
    "collapsed": false,
    "ExecuteTime": {
     "end_time": "2024-03-26T09:55:32.084396800Z",
     "start_time": "2024-03-26T09:55:32.051334700Z"
    }
   },
   "id": "6117f2ba111ec92c",
   "execution_count": 128
  },
  {
   "cell_type": "markdown",
   "source": [
    "# 직접 하는 CNN"
   ],
   "metadata": {
    "collapsed": false
   },
   "id": "c597ce825f4d8c60"
  },
  {
   "cell_type": "code",
   "outputs": [
    {
     "name": "stdout",
     "output_type": "stream",
     "text": [
      "Using PyTorch version: 2.2.0  Device: cpu\n"
     ]
    }
   ],
   "source": [
    "### ===> 딥러닝 모델을 설계할 때 활용하는 장비 확인\n",
    "if torch.cuda.is_available():\n",
    "    DEVICE = torch.device('cuda')\n",
    "else:\n",
    "    DEVICE = torch.device('cpu')\n",
    "    \n",
    "print('Using PyTorch version:', torch.__version__, ' Device:', DEVICE)"
   ],
   "metadata": {
    "collapsed": false,
    "ExecuteTime": {
     "end_time": "2024-03-26T10:02:42.198472800Z",
     "start_time": "2024-03-26T10:02:42.189023900Z"
    }
   },
   "id": "f343160eda89d149",
   "execution_count": 142
  },
  {
   "cell_type": "code",
   "outputs": [],
   "source": [
    "class CNN(nn.Module):\n",
    "    def __init__(self):\n",
    "        super(CNN, self).__init__() # in rgb, 커널은 8개 준비고했고 사이즈는 3*3짜리얌\n",
    "        self.conv1 = nn.Conv2d(in_channels = 3, out_channels = 8, kernel_size = 3, padding = 1) # 커널이 8개면 결과도 8개 \n",
    "        self.conv2 = nn.Conv2d(in_channels = 8, out_channels = 16, kernel_size = 3, padding = 1)\n",
    "        # 풀링을 줘서 줄임\n",
    "        self.pool = nn.MaxPool2d(kernel_size = 2, stride = 2)\n",
    "        self.fc1 = nn.Linear(12*12*16, 8)\n",
    "        self.fc2 = nn.Linear(8, 4)\n",
    "        self.fc3 = nn.Linear(4, 1)\n",
    "        self.sigmoid  = nn.Sigmoid() \n",
    "        \n",
    "        # 가중치 초기화 함수\n",
    "        def initialize_weights(m):\n",
    "            if isinstance(m, nn.Conv2d) or isinstance(m, nn.Linear):\n",
    "                init.kaiming_uniform_(m.weight, mode='fan_in', nonlinearity='relu')\n",
    "\n",
    "        # 모델에 가중치 초기화 적용\n",
    "        self.apply(initialize_weights)\n",
    "        \n",
    "        \n",
    "    def forward(self, x):\n",
    "        x = self.conv1(x) # 패딩이랑 커널사이즈 때문에 row, col의 크기는 변화 X => 50 50 8\n",
    "        x = F.relu(x)\n",
    "        x = self.pool(x) # pooling 때문에 반갈죽 => 25 25 8\n",
    "        x = self.conv2(x) # 25 25 16\n",
    "        x = F.relu(x)\n",
    "        x = self.pool(x) # pooling 또 반갈죽 => 12 12 16\n",
    "        \n",
    "        x = x.view(-1, 12*12*16)\n",
    "        x = self.fc1(x)\n",
    "        x = F.relu(x)\n",
    "        x = self.fc2(x)\n",
    "        x = F.relu(x)\n",
    "        x = self.fc3(x)\n",
    "        x = self.sigmoid(x) # sigmoid\n",
    "        return x"
   ],
   "metadata": {
    "collapsed": false,
    "ExecuteTime": {
     "end_time": "2024-03-26T10:51:35.874869600Z",
     "start_time": "2024-03-26T10:51:35.858653Z"
    }
   },
   "id": "c744deec174e61df",
   "execution_count": 186
  },
  {
   "cell_type": "code",
   "outputs": [
    {
     "data": {
      "text/plain": "[1,\n 4,\n 7,\n 11,\n 14,\n 18,\n 21,\n 24,\n 28,\n 31,\n 35,\n 38,\n 41,\n 45,\n 48,\n 52,\n 55,\n 59,\n 62,\n 65,\n 69,\n 72,\n 76,\n 79,\n 82,\n 86,\n 89,\n 93,\n 96,\n 100]"
     },
     "execution_count": 213,
     "metadata": {},
     "output_type": "execute_result"
    }
   ],
   "source": [
    "step_list = list(np.linspace(1, 100, 30).astype(\"int\"))\n",
    "step_list"
   ],
   "metadata": {
    "collapsed": false,
    "ExecuteTime": {
     "end_time": "2024-03-26T11:14:52.974553300Z",
     "start_time": "2024-03-26T11:14:52.938260800Z"
    }
   },
   "id": "2081cd441cee7562",
   "execution_count": 213
  },
  {
   "cell_type": "code",
   "outputs": [
    {
     "name": "stdout",
     "output_type": "stream",
     "text": [
      "CNN(\n",
      "  (conv1): Conv2d(3, 8, kernel_size=(3, 3), stride=(1, 1), padding=(1, 1))\n",
      "  (conv2): Conv2d(8, 16, kernel_size=(3, 3), stride=(1, 1), padding=(1, 1))\n",
      "  (pool): MaxPool2d(kernel_size=2, stride=2, padding=0, dilation=1, ceil_mode=False)\n",
      "  (fc1): Linear(in_features=2304, out_features=8, bias=True)\n",
      "  (fc2): Linear(in_features=8, out_features=4, bias=True)\n",
      "  (fc3): Linear(in_features=4, out_features=1, bias=True)\n",
      "  (sigmoid): Sigmoid()\n",
      ")\n"
     ]
    }
   ],
   "source": [
    "### ===> Optimizer, Objective Function 설정\n",
    "model = CNN().to(DEVICE)\n",
    "\n",
    "optimizer = torch.optim.Adam(model.parameters(), lr = 0.01)\n",
    "\n",
    "criterion = nn.BCELoss() # \n",
    "\n",
    "scheduler = optim.lr_scheduler.MultiStepLR(optimizer, milestones=[2, 3, 4, 8, 13, 18, 25, 30], gamma=0.5)\n",
    "print(model)"
   ],
   "metadata": {
    "collapsed": false,
    "ExecuteTime": {
     "end_time": "2024-03-26T11:15:55.390860100Z",
     "start_time": "2024-03-26T11:15:55.335230800Z"
    }
   },
   "id": "173cc961d1fe0c37",
   "execution_count": 214
  },
  {
   "cell_type": "code",
   "outputs": [],
   "source": [
    "# CNN 모델 학습 진행 함수\n",
    "def train(epoch, model, train_loader, optimizer, log_interval):\n",
    "    model.train()\n",
    "    total_loss = 0\n",
    "    correct = 0\n",
    "    \n",
    "    for batch_idx, (image, label) in enumerate(train_loader):\n",
    "        image = image.to(DEVICE)\n",
    "        label = label.to(DEVICE)\n",
    "        # label = label.unsqueeze(dim=1).dtype(torch.)\n",
    "        \n",
    "        optimizer.zero_grad()\n",
    "        output = model(image)\n",
    "        label = label.float()\n",
    "        \n",
    "        loss = criterion(output, label.unsqueeze(dim = 1))\n",
    "        loss.backward()\n",
    "        optimizer.step()\n",
    "        scheduler.step() # 스케줄러 \n",
    "        \n",
    "        total_loss += criterion(output, label.unsqueeze(dim = 1)).item()\n",
    "        prediction = output.round()\n",
    "        correct += prediction.eq(label.view_as(prediction)).sum().item()\n",
    "        \n",
    "        if batch_idx % log_interval == 0:\n",
    "            print(f\"Train Epoch: {epoch} [{batch_idx}]\\tTrain Loss: {loss.item():.6f}\")\n",
    "            \n",
    "    total_loss /= len(train_loader.dataset) # 평균 손실 \n",
    "    train_accuracy = 100. * correct / len(train_loader.dataset)\n",
    "    return total_loss, train_accuracy\n",
    "    "
   ],
   "metadata": {
    "collapsed": false,
    "ExecuteTime": {
     "end_time": "2024-03-26T11:15:55.730413100Z",
     "start_time": "2024-03-26T11:15:55.721932700Z"
    }
   },
   "id": "e400e8558bcb281f",
   "execution_count": 215
  },
  {
   "cell_type": "code",
   "outputs": [],
   "source": [
    "### 검증 validation 진행 함수 \n",
    "def evaluate(model, val_loader):\n",
    "    model.eval()\n",
    "    test_loss = 0\n",
    "    correct = 0\n",
    "\n",
    "    with torch.no_grad():\n",
    "        for image, label in val_loader:\n",
    "            image = image.to(DEVICE)\n",
    "            label = label.to(DEVICE)\n",
    "            label = label.float()\n",
    "            output = model(image)\n",
    "            test_loss += criterion(output, label.unsqueeze(dim = 1)).item()\n",
    "            # print(output.max(1, keepdim = True))\n",
    "            prediction = output.round()  # 이진 분류에서는 반올림하여 0 또는 1로 변환\n",
    "            # print(label)\n",
    "            # print(prediction)\n",
    "            # print(prediction.eq(label.view_as(prediction)).sum().item())\n",
    "            # print()\n",
    "            correct += prediction.eq(label.view_as(prediction)).sum().item()\n",
    "    \n",
    "    test_loss /= len(val_loader.dataset) # 평균 손실 \n",
    "    test_accuracy = 100. * correct / len(val_loader.dataset)\n",
    "    return test_loss, test_accuracy"
   ],
   "metadata": {
    "collapsed": false,
    "ExecuteTime": {
     "end_time": "2024-03-26T11:15:55.885187200Z",
     "start_time": "2024-03-26T11:15:55.876807400Z"
    }
   },
   "id": "f25346fb72290982",
   "execution_count": 216
  },
  {
   "cell_type": "code",
   "outputs": [
    {
     "data": {
      "text/plain": "200"
     },
     "execution_count": 217,
     "metadata": {},
     "output_type": "execute_result"
    }
   ],
   "source": [
    "len(val_DL.dataset)"
   ],
   "metadata": {
    "collapsed": false,
    "ExecuteTime": {
     "end_time": "2024-03-26T11:15:56.041954200Z",
     "start_time": "2024-03-26T11:15:56.030337100Z"
    }
   },
   "id": "74bb673c06ca4446",
   "execution_count": 217
  },
  {
   "cell_type": "markdown",
   "source": [
    "# 학습 진행"
   ],
   "metadata": {
    "collapsed": false
   },
   "id": "1900cdf2f3ffc0a1"
  },
  {
   "cell_type": "code",
   "outputs": [
    {
     "name": "stdout",
     "output_type": "stream",
     "text": [
      "Train Epoch: 1 [0]\tTrain Loss: 0.813576\n",
      "\n",
      "[EPOCH: 1], \tTest Loss: 0.0348, \tTest Accuracy: 47.00 % \n",
      "Train Epoch: 2 [0]\tTrain Loss: 0.704832\n",
      "\n",
      "[EPOCH: 2], \tTest Loss: 0.0348, \tTest Accuracy: 47.00 % \n",
      "Train Epoch: 3 [0]\tTrain Loss: 0.693718\n",
      "\n",
      "[EPOCH: 3], \tTest Loss: 0.0346, \tTest Accuracy: 49.50 % \n",
      "Train Epoch: 4 [0]\tTrain Loss: 0.700179\n",
      "\n",
      "[EPOCH: 4], \tTest Loss: 0.0346, \tTest Accuracy: 49.50 % \n",
      "\n",
      "Train Epoch: 5 [0]\tTrain Loss: 0.692402\n",
      "\n",
      "[EPOCH: 5], \tTest Loss: 0.0343, \tTest Accuracy: 55.50 % \n",
      "Train Epoch: 6 [0]\tTrain Loss: 0.692221\n",
      "\n",
      "[EPOCH: 6], \tTest Loss: 0.0340, \tTest Accuracy: 60.50 % \n",
      "Train Epoch: 7 [0]\tTrain Loss: 0.701122\n",
      "\n",
      "[EPOCH: 7], \tTest Loss: 0.0341, \tTest Accuracy: 58.00 % \n",
      "Train Epoch: 8 [0]\tTrain Loss: 0.698296\n",
      "\n",
      "[EPOCH: 8], \tTest Loss: 0.0340, \tTest Accuracy: 52.50 % \n",
      "Train Epoch: 9 [0]\tTrain Loss: 0.689092\n",
      "\n",
      "[EPOCH: 9], \tTest Loss: 0.0337, \tTest Accuracy: 51.00 % \n",
      "Train Epoch: 10 [0]\tTrain Loss: 0.682852\n",
      "\n",
      "[EPOCH: 10], \tTest Loss: 0.0333, \tTest Accuracy: 52.00 % \n",
      "Train Epoch: 11 [0]\tTrain Loss: 0.708632\n",
      "\n",
      "[EPOCH: 11], \tTest Loss: 0.0332, \tTest Accuracy: 59.50 % \n",
      "Train Epoch: 12 [0]\tTrain Loss: 0.690824\n",
      "\n",
      "[EPOCH: 12], \tTest Loss: 0.0343, \tTest Accuracy: 53.50 % \n",
      "Train Epoch: 13 [0]\tTrain Loss: 0.648011\n",
      "\n",
      "[EPOCH: 13], \tTest Loss: 0.0324, \tTest Accuracy: 61.50 % \n",
      "Train Epoch: 14 [0]\tTrain Loss: 0.673052\n",
      "\n",
      "[EPOCH: 14], \tTest Loss: 0.0328, \tTest Accuracy: 63.00 % \n",
      "Train Epoch: 15 [0]\tTrain Loss: 0.685142\n",
      "\n",
      "[EPOCH: 15], \tTest Loss: 0.0328, \tTest Accuracy: 59.00 % \n",
      "Train Epoch: 16 [0]\tTrain Loss: 0.647022\n",
      "\n",
      "[EPOCH: 16], \tTest Loss: 0.0330, \tTest Accuracy: 59.50 % \n",
      "Train Epoch: 17 [0]\tTrain Loss: 0.652088\n",
      "\n",
      "[EPOCH: 17], \tTest Loss: 0.0332, \tTest Accuracy: 53.50 % \n",
      "Train Epoch: 18 [0]\tTrain Loss: 0.629123\n",
      "\n",
      "[EPOCH: 18], \tTest Loss: 0.0329, \tTest Accuracy: 57.00 % \n",
      "Train Epoch: 19 [0]\tTrain Loss: 0.623762\n",
      "\n",
      "[EPOCH: 19], \tTest Loss: 0.0326, \tTest Accuracy: 62.50 % \n",
      "Train Epoch: 20 [0]\tTrain Loss: 0.633456\n",
      "\n",
      "[EPOCH: 20], \tTest Loss: 0.0302, \tTest Accuracy: 75.00 % \n",
      "Train Epoch: 21 [0]\tTrain Loss: 0.640171\n",
      "\n",
      "[EPOCH: 21], \tTest Loss: 0.0309, \tTest Accuracy: 69.50 % \n",
      "Train Epoch: 22 [0]\tTrain Loss: 0.635154\n",
      "\n",
      "[EPOCH: 22], \tTest Loss: 0.0316, \tTest Accuracy: 67.50 % \n",
      "Train Epoch: 23 [0]\tTrain Loss: 0.713466\n",
      "\n",
      "[EPOCH: 23], \tTest Loss: 0.0305, \tTest Accuracy: 70.00 % \n",
      "Train Epoch: 24 [0]\tTrain Loss: 0.689641\n",
      "\n",
      "[EPOCH: 24], \tTest Loss: 0.0309, \tTest Accuracy: 72.00 % \n",
      "Train Epoch: 25 [0]\tTrain Loss: 0.625623\n",
      "\n",
      "[EPOCH: 25], \tTest Loss: 0.0302, \tTest Accuracy: 69.50 % \n",
      "Train Epoch: 26 [0]\tTrain Loss: 0.634364\n",
      "\n",
      "[EPOCH: 26], \tTest Loss: 0.0293, \tTest Accuracy: 72.00 % \n",
      "Train Epoch: 27 [0]\tTrain Loss: 0.620694\n",
      "\n",
      "[EPOCH: 27], \tTest Loss: 0.0307, \tTest Accuracy: 66.50 % \n",
      "Train Epoch: 28 [0]\tTrain Loss: 0.558867\n",
      "\n",
      "[EPOCH: 28], \tTest Loss: 0.0299, \tTest Accuracy: 74.00 % \n",
      "Train Epoch: 29 [0]\tTrain Loss: 0.660799\n",
      "\n",
      "[EPOCH: 29], \tTest Loss: 0.0289, \tTest Accuracy: 73.50 % \n",
      "Train Epoch: 30 [0]\tTrain Loss: 0.545249\n",
      "\n",
      "[EPOCH: 30], \tTest Loss: 0.0292, \tTest Accuracy: 75.00 % \n",
      "Train Epoch: 31 [0]\tTrain Loss: 0.543918\n",
      "\n",
      "[EPOCH: 31], \tTest Loss: 0.0293, \tTest Accuracy: 74.50 % \n",
      "Train Epoch: 32 [0]\tTrain Loss: 0.619808\n",
      "\n",
      "[EPOCH: 32], \tTest Loss: 0.0284, \tTest Accuracy: 78.50 % \n",
      "Train Epoch: 33 [0]\tTrain Loss: 0.573485\n",
      "\n",
      "[EPOCH: 33], \tTest Loss: 0.0304, \tTest Accuracy: 71.50 % \n",
      "Train Epoch: 34 [0]\tTrain Loss: 0.584096\n",
      "\n",
      "[EPOCH: 34], \tTest Loss: 0.0285, \tTest Accuracy: 71.50 % \n",
      "Train Epoch: 35 [0]\tTrain Loss: 0.641713\n",
      "\n",
      "[EPOCH: 35], \tTest Loss: 0.0287, \tTest Accuracy: 70.00 % \n",
      "Train Epoch: 36 [0]\tTrain Loss: 0.657478\n",
      "\n",
      "[EPOCH: 36], \tTest Loss: 0.0299, \tTest Accuracy: 69.50 % \n",
      "Train Epoch: 37 [0]\tTrain Loss: 0.575853\n",
      "\n",
      "[EPOCH: 37], \tTest Loss: 0.0267, \tTest Accuracy: 76.00 % \n",
      "Train Epoch: 38 [0]\tTrain Loss: 0.534253\n",
      "\n",
      "[EPOCH: 38], \tTest Loss: 0.0273, \tTest Accuracy: 75.00 % \n",
      "Train Epoch: 39 [0]\tTrain Loss: 0.488290\n",
      "\n",
      "[EPOCH: 39], \tTest Loss: 0.0285, \tTest Accuracy: 74.50 % \n",
      "Train Epoch: 40 [0]\tTrain Loss: 0.631336\n",
      "\n",
      "[EPOCH: 40], \tTest Loss: 0.0271, \tTest Accuracy: 75.00 % \n",
      "Train Epoch: 41 [0]\tTrain Loss: 0.601451\n",
      "\n",
      "[EPOCH: 41], \tTest Loss: 0.0275, \tTest Accuracy: 76.50 % \n",
      "Train Epoch: 42 [0]\tTrain Loss: 0.523754\n",
      "\n",
      "[EPOCH: 42], \tTest Loss: 0.0276, \tTest Accuracy: 70.00 % \n",
      "Train Epoch: 43 [0]\tTrain Loss: 0.618320\n",
      "\n",
      "[EPOCH: 43], \tTest Loss: 0.0267, \tTest Accuracy: 75.00 % \n",
      "Train Epoch: 44 [0]\tTrain Loss: 0.539082\n",
      "\n",
      "[EPOCH: 44], \tTest Loss: 0.0270, \tTest Accuracy: 73.00 % \n",
      "Train Epoch: 45 [0]\tTrain Loss: 0.517441\n",
      "\n",
      "[EPOCH: 45], \tTest Loss: 0.0284, \tTest Accuracy: 71.50 % \n",
      "Train Epoch: 46 [0]\tTrain Loss: 0.532235\n",
      "\n",
      "[EPOCH: 46], \tTest Loss: 0.0265, \tTest Accuracy: 72.50 % \n",
      "Train Epoch: 47 [0]\tTrain Loss: 0.550857\n",
      "\n",
      "[EPOCH: 47], \tTest Loss: 0.0280, \tTest Accuracy: 66.50 % \n",
      "Train Epoch: 48 [0]\tTrain Loss: 0.508860\n",
      "\n",
      "[EPOCH: 48], \tTest Loss: 0.0258, \tTest Accuracy: 79.50 % \n",
      "Train Epoch: 49 [0]\tTrain Loss: 0.602422\n",
      "\n",
      "[EPOCH: 49], \tTest Loss: 0.0267, \tTest Accuracy: 74.00 % \n",
      "Train Epoch: 50 [0]\tTrain Loss: 0.564425\n",
      "\n",
      "[EPOCH: 50], \tTest Loss: 0.0254, \tTest Accuracy: 77.50 % \n",
      "Train Epoch: 51 [0]\tTrain Loss: 0.506929\n",
      "\n",
      "[EPOCH: 51], \tTest Loss: 0.0289, \tTest Accuracy: 74.00 % \n",
      "Train Epoch: 52 [0]\tTrain Loss: 0.627294\n",
      "\n",
      "[EPOCH: 52], \tTest Loss: 0.0262, \tTest Accuracy: 73.50 % \n",
      "Train Epoch: 53 [0]\tTrain Loss: 0.593717\n",
      "\n",
      "[EPOCH: 53], \tTest Loss: 0.0265, \tTest Accuracy: 73.00 % \n",
      "Train Epoch: 54 [0]\tTrain Loss: 0.537960\n",
      "\n",
      "[EPOCH: 54], \tTest Loss: 0.0252, \tTest Accuracy: 77.50 % \n",
      "Train Epoch: 55 [0]\tTrain Loss: 0.508001\n",
      "\n",
      "[EPOCH: 55], \tTest Loss: 0.0258, \tTest Accuracy: 76.50 % \n",
      "Train Epoch: 56 [0]\tTrain Loss: 0.525324\n",
      "\n",
      "[EPOCH: 56], \tTest Loss: 0.0254, \tTest Accuracy: 78.00 % \n",
      "Train Epoch: 57 [0]\tTrain Loss: 0.569963\n",
      "\n",
      "[EPOCH: 57], \tTest Loss: 0.0288, \tTest Accuracy: 72.50 % \n",
      "Train Epoch: 58 [0]\tTrain Loss: 0.458014\n",
      "\n",
      "[EPOCH: 58], \tTest Loss: 0.0231, \tTest Accuracy: 82.00 % \n",
      "Train Epoch: 59 [0]\tTrain Loss: 0.622719\n",
      "\n",
      "[EPOCH: 59], \tTest Loss: 0.0274, \tTest Accuracy: 70.50 % \n",
      "Train Epoch: 60 [0]\tTrain Loss: 0.535846\n",
      "\n",
      "[EPOCH: 60], \tTest Loss: 0.0286, \tTest Accuracy: 74.00 % \n",
      "Train Epoch: 61 [0]\tTrain Loss: 0.516271\n",
      "\n",
      "[EPOCH: 61], \tTest Loss: 0.0277, \tTest Accuracy: 74.50 % \n",
      "Train Epoch: 62 [0]\tTrain Loss: 0.600253\n",
      "\n",
      "[EPOCH: 62], \tTest Loss: 0.0268, \tTest Accuracy: 73.00 % \n",
      "Train Epoch: 63 [0]\tTrain Loss: 0.535435\n",
      "\n",
      "[EPOCH: 63], \tTest Loss: 0.0248, \tTest Accuracy: 75.00 % \n",
      "Train Epoch: 64 [0]\tTrain Loss: 0.616169\n",
      "\n",
      "[EPOCH: 64], \tTest Loss: 0.0261, \tTest Accuracy: 76.50 % \n",
      "Train Epoch: 65 [0]\tTrain Loss: 0.502608\n",
      "\n",
      "[EPOCH: 65], \tTest Loss: 0.0278, \tTest Accuracy: 73.00 % \n",
      "Train Epoch: 66 [0]\tTrain Loss: 0.500501\n",
      "\n",
      "[EPOCH: 66], \tTest Loss: 0.0271, \tTest Accuracy: 76.00 % \n",
      "Train Epoch: 67 [0]\tTrain Loss: 0.501774\n",
      "\n",
      "[EPOCH: 67], \tTest Loss: 0.0278, \tTest Accuracy: 72.00 % \n",
      "Train Epoch: 68 [0]\tTrain Loss: 0.616087\n",
      "\n",
      "[EPOCH: 68], \tTest Loss: 0.0265, \tTest Accuracy: 70.50 % \n",
      "Train Epoch: 69 [0]\tTrain Loss: 0.472432\n",
      "\n",
      "[EPOCH: 69], \tTest Loss: 0.0251, \tTest Accuracy: 78.50 % \n",
      "Train Epoch: 70 [0]\tTrain Loss: 0.541002\n",
      "\n",
      "[EPOCH: 70], \tTest Loss: 0.0251, \tTest Accuracy: 77.50 % \n",
      "Train Epoch: 71 [0]\tTrain Loss: 0.478032\n",
      "\n",
      "[EPOCH: 71], \tTest Loss: 0.0279, \tTest Accuracy: 72.50 % \n",
      "Train Epoch: 72 [0]\tTrain Loss: 0.535231\n",
      "\n",
      "[EPOCH: 72], \tTest Loss: 0.0260, \tTest Accuracy: 73.00 % \n",
      "Train Epoch: 73 [0]\tTrain Loss: 0.592867\n",
      "\n",
      "[EPOCH: 73], \tTest Loss: 0.0238, \tTest Accuracy: 77.50 % \n",
      "\n",
      "조기 종료: 검증 손실이 이전에 관측된 최적의 손실보다 높아짐\n"
     ]
    }
   ],
   "source": [
    "# CNN 학습\n",
    "EPOCHS = 100\n",
    "\n",
    "# 최고 성능 모델의 가중치 저장\n",
    "best_model_weights = None\n",
    "best_test_loss = np.inf\n",
    "patience = 15  # 조기 종료를 위한 참을성 값 설정\n",
    "counter = 0  # 성능이 향상되지 않는 epoch 카운터\n",
    "\n",
    "train_loss_acc = [[],[]]\n",
    "val_loss_acc = [[],[]]\n",
    "\n",
    "for epoch in range(1, EPOCHS + 1):\n",
    "    \n",
    "    train_loss, train_acc = train(epoch, model, train_DL, optimizer, log_interval=200)\n",
    "    train_loss_acc[0].append(train_loss)\n",
    "    train_loss_acc[1].append(train_acc)\n",
    "    \n",
    "    \n",
    "    test_loss, test_accuracy = evaluate(model, val_DL)\n",
    "    print(f\"\\n[EPOCH: {epoch}], \\tTest Loss: {test_loss:.4f}, \\tTest Accuracy: {test_accuracy:.2f} % \\n\")\n",
    "    val_loss_acc[0].append(test_loss)\n",
    "    val_loss_acc[1].append(test_accuracy)\n",
    "    \n",
    "    # 조기 종료 검사\n",
    "    if test_loss < best_test_loss:\n",
    "        best_test_loss = test_loss\n",
    "        best_model_weights = model.state_dict()  # 최고 성능 모델의 가중치 저장\n",
    "        counter = 0  # 카운터 초기화\n",
    "    else:\n",
    "        counter += 1  # 성능이 향상되지 않음\n",
    "        \n",
    "        if counter >= patience:\n",
    "            print(\"조기 종료: 검증 손실이 이전에 관측된 최적의 손실보다 높아짐\")\n",
    "            break\n",
    "            \n",
    "# 최고 성능 모델의 가중치로 모델을 업데이트\n",
    "if best_model_weights is not None:\n",
    "    model.load_state_dict(best_model_weights)"
   ],
   "metadata": {
    "collapsed": false,
    "ExecuteTime": {
     "end_time": "2024-03-26T11:27:43.090680800Z",
     "start_time": "2024-03-26T11:15:56.338325400Z"
    }
   },
   "id": "a699bfc38a1f98c2",
   "execution_count": 218
  },
  {
   "cell_type": "code",
   "outputs": [
    {
     "data": {
      "text/plain": "<Figure size 1000x500 with 1 Axes>",
      "image/png": "[encoded data removed]"
     },
     "metadata": {},
     "output_type": "display_data"
    },
    {
     "data": {
      "text/plain": "<Figure size 1000x500 with 1 Axes>",
      "image/png": "[encoded data removed]"
     },
     "metadata": {},
     "output_type": "display_data"
    }
   ],
   "source": [
    "# Loss 그래프 그리기\n",
    "plt.figure(figsize=(10, 5))\n",
    "plt.plot(train_loss_acc[0], label='Train Loss')\n",
    "plt.plot(val_loss_acc[0], label='Val Loss')\n",
    "plt.xlabel('Epoch')\n",
    "plt.ylabel('Loss')\n",
    "plt.title('Training and Testing Loss')\n",
    "plt.legend()\n",
    "plt.show()\n",
    "\n",
    "# Accuracy 그래프 그리기\n",
    "plt.figure(figsize=(10, 5))\n",
    "plt.plot(train_loss_acc[1], label='Train Accuracy')\n",
    "plt.plot(val_loss_acc[1], label='Val Accuracy')\n",
    "plt.xlabel('Epoch')\n",
    "plt.ylabel('Accuracy')\n",
    "plt.title('Training and Testing Accuracy')\n",
    "plt.legend()\n",
    "plt.show()"
   ],
   "metadata": {
    "collapsed": false,
    "ExecuteTime": {
     "end_time": "2024-03-26T11:27:43.608486Z",
     "start_time": "2024-03-26T11:27:43.097595100Z"
    }
   },
   "id": "be83aa75a7732c87",
   "execution_count": 219
  },
  {
   "cell_type": "markdown",
   "source": [
    "# test data predict"
   ],
   "metadata": {
    "collapsed": false
   },
   "id": "d1c74de496c90340"
  },
  {
   "cell_type": "code",
   "outputs": [
    {
     "data": {
      "text/plain": "71.6867469879518"
     },
     "execution_count": 220,
     "metadata": {},
     "output_type": "execute_result"
    }
   ],
   "source": [
    "def predict(model, val_loader):\n",
    "    model.eval()\n",
    "    correct = 0\n",
    "\n",
    "    with torch.no_grad():\n",
    "        for image, label in val_loader:\n",
    "            image = image.to(DEVICE)\n",
    "            label = label.to(DEVICE)\n",
    "            label = label.float()\n",
    "            output = model(image)\n",
    "            # print(output.max(1, keepdim = True))\n",
    "            prediction = output.round()  # 이진 분류에서는 반올림하여 0 또는 1로 변환\n",
    "            \n",
    "            correct += prediction.eq(label.view_as(prediction)).sum().item()\n",
    "    \n",
    "    test_accuracy = 100. * correct / len(val_loader.dataset)\n",
    "    return test_accuracy\n",
    "\n",
    "predict(model, test_DL)"
   ],
   "metadata": {
    "collapsed": false,
    "ExecuteTime": {
     "end_time": "2024-03-26T12:03:05.870238600Z",
     "start_time": "2024-03-26T12:03:04.865849400Z"
    }
   },
   "id": "b919dcec44235c18",
   "execution_count": 220
  },
  {
   "cell_type": "markdown",
   "source": [
    "# 예측 진행 : 피자"
   ],
   "metadata": {
    "collapsed": false
   },
   "id": "8cc9296030ffa0bf"
  },
  {
   "cell_type": "code",
   "outputs": [],
   "source": [
    "# import cv2\n",
    "# import matplotlib.pyplot as plt\n",
    "# \n",
    "# \n",
    "# dongle = cv2.imread('../data/img/img3.png', cv2.IMREAD_GRAYSCALE)\n",
    "# plt.imshow(dongle, cmap = 'gray')\n",
    "# plt.axis(\"off\")\n",
    "# dongle = cv2.resize(dongle, (50, 50)) / 255\n",
    "# \n",
    "# dongle = np.expand_dims(dongle, axis=0) # (50, 50) -> (1, 50, 50)\n",
    "# \n",
    "# model(torch.FloatTensor(dongle)) # 아슬아슬하게 고양이가 된 동글이!! 이 정도면 제비뽑기를 하는 것이 나아보인다ㅠㅠ"
   ],
   "metadata": {
    "collapsed": false,
    "ExecuteTime": {
     "end_time": "2024-03-26T12:12:59.274853300Z",
     "start_time": "2024-03-26T12:12:59.232928500Z"
    }
   },
   "id": "647a6baacccd41",
   "execution_count": 221
  },
  {
   "cell_type": "code",
   "outputs": [],
   "source": [
    "torch.save(model.state_dict(), 'model.pth')"
   ],
   "metadata": {
    "collapsed": false,
    "ExecuteTime": {
     "end_time": "2024-03-26T12:13:00.919249300Z",
     "start_time": "2024-03-26T12:13:00.876390600Z"
    }
   },
   "id": "6cc5b0aad6023428",
   "execution_count": 222
  },
  {
   "cell_type": "code",
   "outputs": [],
   "source": [
    "# # 모델 클래스를 초기화하고 모델 가중치를 로드합니다.\n",
    "# model = MyModelClass(*args, **kwargs)\n",
    "# model.load_state_dict(torch.load('model.pth'))\n",
    "# model.eval()  # 모델을 추론 모드로 설정합니다."
   ],
   "metadata": {
    "collapsed": false,
    "ExecuteTime": {
     "start_time": "2024-03-26T09:29:44.426615400Z"
    }
   },
   "id": "6d291cf769c88eae",
   "execution_count": null
  },
  {
   "cell_type": "code",
   "outputs": [],
   "source": [],
   "metadata": {
    "collapsed": false,
    "ExecuteTime": {
     "end_time": "2024-03-26T09:29:44.440450600Z",
     "start_time": "2024-03-26T09:29:44.428851800Z"
    }
   },
   "id": "342b6f55ad4c47ea",
   "execution_count": null
  }
 ],
 "metadata": {
  "kernelspec": {
   "display_name": "Python 3",
   "language": "python",
   "name": "python3"
  },
  "language_info": {
   "codemirror_mode": {
    "name": "ipython",
    "version": 2
   },
   "file_extension": ".py",
   "mimetype": "text/x-python",
   "name": "python",
   "nbconvert_exporter": "python",
   "pygments_lexer": "ipython2",
   "version": "2.7.6"
  }
 },
 "nbformat": 4,
 "nbformat_minor": 5
}
